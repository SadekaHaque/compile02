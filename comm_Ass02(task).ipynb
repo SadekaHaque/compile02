{
 "cells": [
  {
   "cell_type": "code",
   "execution_count": 10,
   "metadata": {
    "collapsed": false
   },
   "outputs": [
    {
     "name": "stdout",
     "output_type": "stream",
     "text": [
      "Enter the equation: a x c - b / c + c x c\n"
     ]
    }
   ],
   "source": [
    "Eq = input('Enter the equation: ')\n"
   ]
  },
  {
   "cell_type": "code",
   "execution_count": 11,
   "metadata": {
    "collapsed": true
   },
   "outputs": [],
   "source": [
    "operator = ['x', '/', '-', '+']"
   ]
  },
  {
   "cell_type": "code",
   "execution_count": 12,
   "metadata": {
    "collapsed": true
   },
   "outputs": [],
   "source": [
    "output = []\n",
    "stack = []\n",
    "for i in Eq:\n",
    "    if i not in operator:\n",
    "        output.append(i)\n",
    "    else:\n",
    "        if len(stack) != 0:\n",
    "            if operator.index(stack[-1]) >= operator.index(i):\n",
    "                stack.append(i)\n",
    "            else:\n",
    "                output.append(stack[-1])\n",
    "                stack.pop()\n",
    "                stack.append(i)\n",
    "        else:\n",
    "            stack.append(i)"
   ]
  },
  {
   "cell_type": "code",
   "execution_count": 13,
   "metadata": {
    "collapsed": false
   },
   "outputs": [
    {
     "name": "stdout",
     "output_type": "stream",
     "text": [
      "acxbc/ccx+-"
     ]
    }
   ],
   "source": [
    "outputs = output + stack[::-1]\n",
    "for i in outputs:\n",
    "    if i != \" \":\n",
    "        print(i, end=\"\")"
   ]
  }
 ],
 "metadata": {
  "kernelspec": {
   "display_name": "Python 3",
   "language": "python",
   "name": "python3"
  },
  "language_info": {
   "codemirror_mode": {
    "name": "ipython",
    "version": 3
   },
   "file_extension": ".py",
   "mimetype": "text/x-python",
   "name": "python",
   "nbconvert_exporter": "python",
   "pygments_lexer": "ipython3",
   "version": "3.6.0"
  }
 },
 "nbformat": 4,
 "nbformat_minor": 2
}
